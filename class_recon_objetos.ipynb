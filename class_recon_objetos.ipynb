from keras.models import load_model
import cv2
import numpy as np

# Disable scientific notation for clarity
np.set_printoptions(suppress=True)

# Carregue o modelo treinado
model = load_model("keras_model.h5", compile=False)

# Carregue os rótulos (nomes das pessoas) a partir do arquivo labels.txt
with open("labels.txt", "r") as labels_file:
    class_names = labels_file.read().splitlines()

# CAMERA pode ser 0 ou 1 com base na câmera padrão do seu computador
camera = cv2.VideoCapture(1)

# Carregue o classificador Haar Cascade para detecção de faces
face_cascade = cv2.CascadeClassifier(cv2.data.haarcascades + 'haarcascade_frontalface_default.xml')

while True:
    # Captura a imagem da câmera
    ret, image = camera.read()

    # Detecta faces na imagem
    gray = cv2.cvtColor(image, cv2.COLOR_BGR2GRAY)
    faces = face_cascade.detectMultiScale(gray, scaleFactor=1.1, minNeighbors=5, minSize=(30, 30))

    # Loop pelas faces detectadas
    for (x, y, w, h) in faces:
        # Extrai a região da face da imagem
        face_roi = image[y:y + h, x:x + w]

        # Redimensiona a imagem da face para o tamanho necessário para o modelo
        face_roi = cv2.resize(face_roi, (224, 224), interpolation=cv2.INTER_AREA)

        # Converte a imagem da face em um array numpy e aplica normalização
        face_array = np.asarray(face_roi, dtype=np.float32).reshape(1, 224, 224, 3)
        face_array = (face_array / 127.5) - 1

        # Faz a previsão usando o modelo
        prediction = model.predict(face_array)
        index = np.argmax(prediction)
        class_name = class_names[index]
        confidence_score = prediction[0][index]

        # Desenha o retângulo na imagem
        cv2.rectangle(image, (x, y), (x + w, y + h), (0, 255, 0), 2)  # Retângulo verde
        cv2.putText(image, class_name, (x, y - 10), cv2.FONT_HERSHEY_SIMPLEX, 0.9, (0, 255, 0), 2)  # Nome da pessoa

        # Imprime a previsão e a pontuação de confiança
        print("Pessoa:", class_name)
        print("Pontuação de Confiança:", str(np.round(confidence_score * 100))[:-2], "%")

    # Mostra a imagem na janela
    cv2.imshow("Webcam Image", image)

    # Escuta o teclado para interrupção
    keyboard_input = cv2.waitKey(1)

    # 27 é o código ASCII para a tecla Esc
    if keyboard_input == 27:
        break

# Libera a câmera e fecha as janelas
camera.release()
cv2.destroyAllWindows()
